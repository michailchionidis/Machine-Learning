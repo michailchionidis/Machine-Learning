{
 "cells": [
  {
   "cell_type": "markdown",
   "id": "106ecfcf",
   "metadata": {},
   "source": [
    "# Cost Function \n",
    "Cost function measures the performance of a machine learning model for a data set. Cost function quantifies the error between predicted and expected values and presents that error in the form of a single real number. Depending on the problem, cost function can be formed in many different ways\n",
    "\n",
    "## Sources:\n",
    "<a href=\"https://www.coursera.org/learn/machine-learning/home/welcome\"> [1] Supervised Machine Learning: Regression and Classification (Coursera) </a>"
   ]
  },
  {
   "cell_type": "markdown",
   "id": "a3a466e6",
   "metadata": {},
   "source": [
    "## 🎯 Goals:\n",
    "- Learn about the Cost function \n",
    "- Implement the Cost function for linear regression with one variable in Python"
   ]
  },
  {
   "cell_type": "markdown",
   "id": "04964252",
   "metadata": {},
   "source": [
    "##  📖 Theory \n",
    "<b>Cost function </b>: how far our predictions are from the true values in linear models\n",
    "<img src=\"cost_function_formula.png\" width=\"500\" height=\"340\">\n",
    "where:\n",
    "- w,b : model parameters or coefficients or weights\n",
    "- m: number of samples\n",
    "    \n",
    "Different people may use different cost functions for different applications. However, the mean squared error cost function is the most common one.\n",
    "No matter which cost function is used, the goal will always be to minimise the error (=cost function)\n",
    "\n",
    "Goal of linear regression: Find the values of the parameters (w, b) that minimise the squared error (cost function). \n",
    "\n",
    "- Case: b == 0 \n",
    "<br>In the figure below, there is the shape of the cost function when b == 0:\n",
    "<img src = \"cost_function_shape_case_b_zero.png\" width=\"500\" height=\"340\">"
   ]
  },
  {
   "cell_type": "markdown",
   "id": "727ac6a7",
   "metadata": {},
   "source": [
    "- <b> Case: b != 0 </b>\n",
    "<br> When visualising the cost function for both parameters w and b, the cost function has a soup bowl shape. There are multiple different combinations of w and b which gives the same mean squared error. What we are trying to find is the combination of w, b that minimizes the mean squared error (cost function)\n",
    "<table><tr><td><img src='cost_function_shape_b_not_zero.png'></td><td><img src='cost_function_shape_b_not_zero_2.png'></td></tr></table>"
   ]
  },
  {
   "cell_type": "markdown",
   "id": "fa3cd24e",
   "metadata": {},
   "source": [
    "## 💻 Practice (Python)\n",
    "Libraries that will be used:\n",
    "- NumPy (scientific computing)\n",
    "- Matplotlib (plotting the data)"
   ]
  },
  {
   "cell_type": "code",
   "execution_count": 15,
   "id": "adf3e0b7",
   "metadata": {},
   "outputs": [],
   "source": [
    "#1. Import the libraries:\n",
    "import numpy as np\n",
    "import matplotlib.pyplot as plt"
   ]
  },
  {
   "cell_type": "markdown",
   "id": "6ddaeb68",
   "metadata": {},
   "source": [
    "### Problem Statement\n",
    "Create a model that can predict monthly house rental in Thessaloniki (Greece) given the size of the house in square meters.\n",
    "<br> We will start with a small dataset of only 10 data points:\n",
    "\n",
    "| Size (m^2)  | Price (euros)|\n",
    "| ------------ | ------------ |\n",
    "| 30           | 250          |\n",
    "| 50           | 400          |\n",
    "| 65           | 500          |\n",
    "| 25           | 240          |\n",
    "| 80           | 480          |\n",
    "| 55           | 410          |\n",
    "| 60           | 440          |\n",
    "| 120          | 520          |\n",
    "| 100          | 470          |\n",
    "| 150          | 700          |"
   ]
  },
  {
   "cell_type": "code",
   "execution_count": 30,
   "id": "44fb254a",
   "metadata": {},
   "outputs": [],
   "source": [
    "x_train = np.array([30.0, 50.0, 65.0, 25.0, 80.0, 55.0, 60.0, 120.0, 100.0, 150.0]) # Size \n",
    "y_train = np.array([250.0, 400.0, 500.0, 240.0, 480.0, 410.0, 440.0, 520.0, 470.0, 700.0]) #Rental price"
   ]
  },
  {
   "cell_type": "markdown",
   "id": "8d788591",
   "metadata": {},
   "source": [
    "### Plot the dataset:\n",
    "The first thing we should do is to plot the dataset to see the relationsheep between the two variables"
   ]
  },
  {
   "cell_type": "code",
   "execution_count": 37,
   "id": "02fe74f7",
   "metadata": {},
   "outputs": [
    {
     "data": {
      "image/png": "[encoded data removed]",
      "text/plain": [
       "<Figure size 432x288 with 1 Axes>"
      ]
     },
     "metadata": {
      "needs_background": "light"
     },
     "output_type": "display_data"
    }
   ],
   "source": [
    "plt.scatter(x=x_train, y=y_train)\n",
    "plt.xlabel('Size (sqft)'); plt.ylabel('Rental Price/month (€)');\n",
    "plt.title('Input dataset');"
   ]
  },
  {
   "cell_type": "markdown",
   "id": "4264ca3d",
   "metadata": {},
   "source": [
    "What we should do next, is to find the values of the parameters w, b that minimizes the Cost function.\n",
    "\n",
    "Let's say that we set: w=5 and b=4 and try to visualize the real data (blue data points) along with our estimation (red line):  $ \\hat{y}  = 5x + 4$\n"
   ]
  },
  {
   "cell_type": "code",
   "execution_count": 49,
   "id": "2257116c",
   "metadata": {},
   "outputs": [
    {
     "data": {
      "image/png": "[encoded data removed]",
      "text/plain": [
       "<Figure size 432x288 with 1 Axes>"
      ]
     },
     "metadata": {
      "needs_background": "light"
     },
     "output_type": "display_data"
    }
   ],
   "source": [
    "plt.scatter(x=x_train, y=y_train)\n",
    "plt.axline(xy1=(0, 4), slope=5, color='tab:red') #where: slope == w and xy1=(0,4) == xy1 =(0,b)\n",
    "plt.xlabel('Size (sqft)'); plt.ylabel('Rental Price/month (€)');\n",
    "plt.title('Input dataset');"
   ]
  },
  {
   "cell_type": "markdown",
   "id": "0fc66ef0",
   "metadata": {},
   "source": [
    "Now, we want to estimate the Cost. In other words how far our predictions are from the real values. For this purspose, we will define the cost function:"
   ]
  },
  {
   "cell_type": "markdown",
   "id": "db4a9965",
   "metadata": {},
   "source": [
    "### Computing Cost\n",
    "Cost (or mean squared error) is a measure of how well our model is predicting the target price of the house.\n",
    "\n",
    "The equation for cost with one variable is:\n",
    "  $$J(w,b) = \\frac{1}{2m} \\sum\\limits_{i = 0}^{m-1} (f_{w,b}(x^{(i)}) - y^{(i)})^2 \\tag{1}$$ \n",
    " \n",
    "where \n",
    "  $$f_{w,b}(x^{(i)}) = \\hat{y_{i}} = wx^{(i)} + b \\tag{2} $$\n",
    "  \n",
    "- $f_{w,b}(x^{(i)})$ or $\\hat{y_{i}}$ is our prediction for example $i$ using parameters $w,b$.  \n",
    "- $(f_{w,b}(x^{(i)}) -y^{(i)})^2$ is the squared difference between the target value and the prediction.   \n",
    "- These differences are summed over all the $m$ examples and divided by `2m` to produce the cost, $J(w,b)$. "
   ]
  },
  {
   "cell_type": "code",
   "execution_count": 50,
   "id": "ed2292fe",
   "metadata": {},
   "outputs": [],
   "source": [
    "def compute_cost(x, y, w, b): \n",
    "    \"\"\"\n",
    "    Computes the cost function for linear regression.\n",
    "    \n",
    "    Args:\n",
    "      x (ndarray (m,)): Data, m examples \n",
    "      y (ndarray (m,)): target values\n",
    "      w,b (scalar)    : model parameters  \n",
    "    \n",
    "    Returns\n",
    "        total_cost (float): The cost of using w,b as the parameters for linear regression\n",
    "               to fit the data points in x and y\n",
    "    \"\"\"\n",
    "    # number of training examples\n",
    "    m = x.shape[0] \n",
    "    \n",
    "    cost_sum = 0 \n",
    "    for i in range(m): \n",
    "        f_wb = w * x[i] + b   \n",
    "        cost = (f_wb - y[i]) ** 2  \n",
    "        cost_sum = cost_sum + cost  \n",
    "    total_cost = (1 / (2 * m)) * cost_sum  \n",
    "\n",
    "    return total_cost"
   ]
  },
  {
   "cell_type": "markdown",
   "id": "f93f12ac",
   "metadata": {},
   "source": [
    "Now that we have defined a Python function that calculates the Cost we can use it to evaluate the performance of our solution: $ \\hat{y}  = 5x + 4$"
   ]
  },
  {
   "cell_type": "code",
   "execution_count": 55,
   "id": "70e82ed2",
   "metadata": {},
   "outputs": [
    {
     "name": "stdout",
     "output_type": "stream",
     "text": [
      "Cost function: 6232.75\n",
      "MSE (Mean Squared Error): 12465.5\n"
     ]
    }
   ],
   "source": [
    "cost = compute_cost(x=x_train, y=y_train, w=5, b=4)\n",
    "print('Cost function:', cost)\n",
    "print('MSE (Mean Squared Error):', cost*2)"
   ]
  },
  {
   "cell_type": "markdown",
   "id": "da51dc1f",
   "metadata": {},
   "source": [
    "Of course, this is not the solution that minimizes the MSE. As you can imagine, there are infinite different solutions (equations), and each one of them gives a differerent cost value. To find one the best one, in the next lesson, we will use an algorithm called <b>Gradient Descent</b>."
   ]
  },
  {
   "cell_type": "markdown",
   "id": "fa269a1d",
   "metadata": {},
   "source": [
    "## ⏭️ Next: Batch Gradient Descent\n"
   ]
  }
 ],
 "metadata": {
  "kernelspec": {
   "display_name": "Python 3 (ipykernel)",
   "language": "python",
   "name": "python3"
  },
  "language_info": {
   "codemirror_mode": {
    "name": "ipython",
    "version": 3
   },
   "file_extension": ".py",
   "mimetype": "text/x-python",
   "name": "python",
   "nbconvert_exporter": "python",
   "pygments_lexer": "ipython3",
   "version": "3.9.7"
  }
 },
 "nbformat": 4,
 "nbformat_minor": 5
}
