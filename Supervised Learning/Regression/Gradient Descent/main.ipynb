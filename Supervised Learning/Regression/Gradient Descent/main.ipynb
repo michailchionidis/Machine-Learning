{
 "cells": [
  {
   "cell_type": "markdown",
   "id": "4ced0117",
   "metadata": {},
   "source": [
    "# Gradient Descent\n",
    "💡 Gradient Descent is an algorithm used to minimize (optimize) any function (for example, minimize functions that have multiple parameters, i.e. $minJ(w1,w2,...,wn,b)$).\n",
    "\n",
    "In Linear Regression Gradient Descent is used to estimate the values of the parameters $w$ and $b$ that minimize the Cost function ($minJ(w,b)$). It is also used for training of Neural Network Models in Machine Learning (called Deep Learning Models).\n",
    "\n",
    "## Sources:\n",
    "<a href=\"https://www.coursera.org/learn/machine-learning/home/welcome\"> [1] Supervised Machine Learning: Regression and Classification (Coursera) </a>\n",
    "<br>\n",
    "<a href=\"https://www.kdnuggets.com/2020/05/5-concepts-gradient-descent-cost-function.html\"> [2] kdnuggets.com </a>\n",
    "<br>\n",
    "<a href=\"https://realpython.com/gradient-descent-algorithm-python/\"> [3] realpython.com </a>\n",
    "\n",
    "\n",
    "## 🎯 Goals:\n",
    "- Learn about the Gradient Descent (how it works + equations)\n",
    "- Implement the Gradient Descent algorithm for linear regression with one variable in Python\n",
    "\n",
    "\n",
    "##  📖 Theory \n",
    "<br> <b> How does Gradient Descent work? </b> <br>\n",
    "<br> 1. Starts with some initial values of our parameters (w,b), for instance, set: $w=0$ and $b=0$\n",
    "<br> 2. Then keep changing the values of $w$ and $b$ a little bit, in order to reduce the cost: $J(w,b)$, until $J$ settles at or near the minimum value. \n",
    "<br> <br> <b> Notes: </b>\n",
    "<br> 1. For some functions, there might be more than one possible minimums!\n",
    "<br> 2. Based on the starting point you may end up in a different local minimum.\n",
    "<br> 3. What you actually do at every iterration, is a step (change to the values of the parameters) to that direction that leads to the maximum decrease of the (cost) function.\n",
    "<br> 4. The process ends when there is no step that you can take to any direction to decrease the value of the function.\n",
    "<img src = \"Gradient_Descent_1.png\" width=\"500\" height=\"340\">\n",
    "\n"
   ]
  },
  {
   "cell_type": "markdown",
   "id": "62903fae",
   "metadata": {},
   "source": [
    "## Gradient Descent Equation:\n",
    "Suppose that we want to minimize the Cost function: $$J(w,b) = \\frac{1}{1m} \\sum\\limits_{i = 0}^{m-1} (f_{w,b}(x^{(i)}) - y^{(i)})^2\\tag{1}$$ \n",
    "\n",
    "For this reason, at every step (iteration), the values of the parameters: w, b are modified by:\n",
    "\n",
    "$$\\begin{align*}\\newline\n",
    "\\;  w &= w -  \\alpha \\frac{\\partial J(w,b)}{\\partial w} \\tag{2}  \\; \\newline \n",
    " b &= b -  \\alpha \\frac{\\partial J(w,b)}{\\partial b}  \\newline\n",
    "\\end{align*}$$\n",
    "\n",
    "where:\n",
    "<br><br> the parameter <b>$a$</b> is called <b>Learning Rate</b>: a small positive number between [0,1]. The learning rate controls \"how big of a step you take downhill\". Thus, a large alpha (close to 1) corresponds to a very aggresive gradient descent procedure, where you're trying to take huge steps. On the other hand, a small alpha correpsonds to a conservative gradient descent procedure, where you take small, baby steps, downhill\n",
    "<br><br> and the term: <b>$\\frac{\\partial J(w,b)}{\\partial w} \\$</b> is called <b>Derivative</b>: it is noting the direction in which you want to take the next step in gradient descent\n",
    "\n",
    "In the gradient descend algorithm, the calculation of the parameters $b$ and $w$ is repeated again and again until the algorithm converges. Converges means that you reach a local minimum where the values of $b$ and $w$ don't change much (more than a threshold value) with each additional step you take. \n",
    "\n",
    "<b>Note:</b> In each step of the Gradient Descent algorithm, you should simulteneously update the values of the parameters ($w$ and $b$). In other words, you should update the values of the parameters at the same time using for both $w$ and $b$ the values that they had in the previous step.\n",
    "\n",
    "<img src = \"Gradient_Descent_maths.png\" width=\"500\" height=\"340\">\n",
    "\n",
    "In the above image, *Simultanious Update* means that the partial derivatives for all the parameters are calculated before updating any of the parameters."
   ]
  },
  {
   "cell_type": "markdown",
   "id": "4e852870",
   "metadata": {},
   "source": [
    "### More about the Learning Rate ($a$) in Gradient Descent:\n",
    "The choice of the Learning Rate ($a$) will have a huge impact in the efficiency of the gradient descent algorithm. A bad choice of the Learning Rate may cause Gradient Descent not work at all\n",
    "\n",
    "#### ⚠️ If $a$ is too small (i.e. 0.00001) the gradient descent algorithm will be incredibly slow\n",
    "#### ⚠️ On the other hand, if the learning rate is too large (i.e. 800) Gradient Descent may never converge and never reach the minimum\n",
    "\n",
    "<img src = \"Gradient_Descent_alpha.png\" width=\"500\" height=\"340\">\n"
   ]
  },
  {
   "cell_type": "markdown",
   "id": "50ea2266",
   "metadata": {},
   "source": [
    "<b> ❓When the Gradient Descent have reached a local minimum, but there are other minimums as well, the Algorithm will stop. This happens because the slope of the derivative is 0, so the value of the parameters will never change, no matter how many itterations will take place: </b>\n",
    "\n",
    "<img src = \"Gradient_Descend_local_minimum.png\" width=\"500\" height=\"340\">\n",
    "\n",
    "<b> Therefore, we should always have in mind that Gradient Descent may lead to a local minimum instead of a Global minimum (Gloabal minimum: the lowest possible value of the cost function)</b>\n",
    "\n",
    "<b> 💡 However, when the cost function is the Mean Squared Error (for two parameters $w$ and$b$), it will always have a single minimum, which is its local minimum (remember the supa bowl shape). For this reason, it is also called as Convex Function </b>\n",
    "\n",
    "The above means, that as long as you have select a correct Learning Rate, the values of the parameters $w$ and $b$ that will be returned from the Cost Function will always be the same\n",
    "\n",
    "This version of the Gradient Descent algorithm that we learn is called \"Batch Gradient Descent\", because in each iteration it takes into account the whole dataset. There are also other versions of the Gradient Descent in which only a subset of the whole dataset is accounted at each iteration\n"
   ]
  },
  {
   "cell_type": "markdown",
   "id": "30e84ffd",
   "metadata": {},
   "source": [
    "### <font color='#8b0000'> When not to use Batch Gradient Descent: </font>\n",
    "\n",
    " \n",
    "There is a disadvantage of applying a Batch Gradient Descent optimization technique in very large datasets. It becomes computationally very expensive to perform because we have to use all of the million samples for completing one iteration, and it has to be done for every iteration until the minimum point is reached. This problem can be solved by Stochastic Gradient Descent. (<b> will see it in a later course </b>"
   ]
  },
  {
   "cell_type": "markdown",
   "id": "27137b42",
   "metadata": {},
   "source": [
    "### 💡 Practical Tips for implementing Gradient Descent in Python:\n",
    "\n",
    "1. Often $w$ and $b$ are initialized to Zero: $w = 0$ , $b = 0$\n",
    "2. Perform multiple runs of the gradient descent with different learning rates and choose the valus of b and w that gives the total minimum of the function\n",
    "3. Cost should always decreases in successful runs of Gradient Descent (In the first iterstions of the algorithm, the cost decreases rapidly, while in the last iterations it slows down\n",
    "\n",
    "<img src = \"Gradient_Descent_Cost.png\" width=\"500\" height=\"340\">\n",
    "\n",
    "4. If your Gradient Descent implementation fails to converge, reduce the Learning Rate ($a$)\n",
    "5. If your Gradient Descent does not minimizes the cost but still converges, try increasing the number of iterations. \n",
    "6. If you encounter the following Warning in Python: \"RuntimeWarning: overflow encountered in double_scalars in gradient descent\", decrease the Learning Rate\n"
   ]
  },
  {
   "cell_type": "markdown",
   "id": "4275ca27",
   "metadata": {},
   "source": [
    "## 💻 Practice (Python)\n",
    "🆘 When implementing Gradient Descent in Python, we should always construct the function from the begging taking into consideration all the above that we have learned. Gradient Descent is an algorithm to optimize (minimize) a function, so we should define the function and the parameters, as well as the Learning Rate and the number of iterations!"
   ]
  },
  {
   "cell_type": "code",
   "execution_count": 16,
   "id": "c0e1a820",
   "metadata": {},
   "outputs": [],
   "source": [
    "# Import the libraries that we will use:\n",
    "\n",
    "import math, copy\n",
    "import numpy as np\n",
    "import matplotlib.pyplot as plt"
   ]
  },
  {
   "cell_type": "markdown",
   "id": "f285daf4",
   "metadata": {},
   "source": [
    "### Problem Statement\n",
    "Create a model that can predict monthly house rental in Thessaloniki (Greece) given the size of the house in square meters.\n",
    "<br> We will start with a small dataset of only 10 data points:\n",
    "\n",
    "| Size (m^2)  | Price (euros)|\n",
    "| ------------ | ------------ |\n",
    "| 30           | 250          |\n",
    "| 50           | 400          |\n",
    "| 65           | 500          |\n",
    "| 25           | 240          |\n",
    "| 80           | 480          |\n",
    "| 55           | 410          |\n",
    "| 60           | 440          |\n",
    "| 120          | 520          |\n",
    "| 100          | 470          |\n",
    "| 150          | 700          |"
   ]
  },
  {
   "cell_type": "code",
   "execution_count": 25,
   "id": "6635332b",
   "metadata": {},
   "outputs": [],
   "source": [
    "# Create the training data\n",
    "\n",
    "x_train = np.array([30.0, 50.0, 65.0, 25.0, 80.0, 55.0, 60.0, 120.0, 100.0, 150.0]) # Size \n",
    "y_train = np.array([250.0, 400.0, 500.0, 240.0, 480.0, 410.0, 440.0, 520.0, 470.0, 700.0]) #Rental price"
   ]
  },
  {
   "cell_type": "markdown",
   "id": "3f39b75e",
   "metadata": {},
   "source": [
    "$$J(w,b) = \\frac{1}{2m} \\sum\\limits_{i = 0}^{m-1} (f_{w,b}(x^{(i)}) - y^{(i)})^2$$ "
   ]
  },
  {
   "cell_type": "code",
   "execution_count": 18,
   "id": "fada7ccc",
   "metadata": {},
   "outputs": [],
   "source": [
    "# Create the cost function (this is the function that we want to optimize)\n",
    "def compute_cost(x, y, w, b):\n",
    "   \n",
    "    m = x.shape[0] \n",
    "    cost = 0\n",
    "    \n",
    "    for i in range(m):\n",
    "        f_wb = w * x[i] + b\n",
    "        cost = cost + (f_wb - y[i])**2\n",
    "    total_cost = 1 / (2 * m) * cost\n",
    "\n",
    "    return total_cost"
   ]
  },
  {
   "cell_type": "markdown",
   "id": "2abb4910",
   "metadata": {},
   "source": [
    "The gradient (partial derivatives) is defined as:\n",
    "$$\n",
    "\\begin{align}\n",
    "\\frac{\\partial J(w,b)}{\\partial w}  &= \\frac{1}{m} \\sum\\limits_{i = 0}^{m-1} (f_{w,b}(x^{(i)}) - y^{(i)})x^{(i)} \\\\\n",
    "  \\frac{\\partial J(w,b)}{\\partial b}  &= \\frac{1}{m} \\sum\\limits_{i = 0}^{m-1} (f_{w,b}(x^{(i)}) - y^{(i)}) \\\\\n",
    "\\end{align}\n",
    "$$"
   ]
  },
  {
   "cell_type": "code",
   "execution_count": 19,
   "id": "25c55635",
   "metadata": {},
   "outputs": [],
   "source": [
    "# Function to compute the partial derivatives:\n",
    "def compute_gradient(x, y, w, b): \n",
    "    \"\"\"\n",
    "    Computes the gradient for linear regression \n",
    "    Args:\n",
    "      x (ndarray (m,)): Data, m examples \n",
    "      y (ndarray (m,)): target values\n",
    "      w,b (scalar)    : model parameters  \n",
    "    Returns\n",
    "      dj_dw (scalar): The gradient of the cost w.r.t. the parameters w\n",
    "      dj_db (scalar): The gradient of the cost w.r.t. the parameter b     \n",
    "     \"\"\"\n",
    "    \n",
    "    # Number of training examples\n",
    "    m = x.shape[0]    \n",
    "    dj_dw = 0\n",
    "    dj_db = 0\n",
    "    \n",
    "    for i in range(m):  \n",
    "        f_wb = w * x[i] + b \n",
    "        dj_dw_i = (f_wb - y[i]) * x[i] \n",
    "        dj_db_i = f_wb - y[i] \n",
    "        dj_db += dj_db_i\n",
    "        dj_dw += dj_dw_i \n",
    "    dj_dw = dj_dw / m \n",
    "    dj_db = dj_db / m \n",
    "        \n",
    "    return dj_dw, dj_db"
   ]
  },
  {
   "cell_type": "markdown",
   "id": "56c9513d",
   "metadata": {},
   "source": [
    "Gradient Descent algorithm:\n",
    "$$\\begin{align*} \\text{repeat}&\\text{ until convergence:} \\; \\lbrace \\newline\n",
    "\\;  w &= w -  \\alpha \\frac{\\partial J(w,b)}{\\partial w}  \\; \\newline \n",
    " b &= b -  \\alpha \\frac{\\partial J(w,b)}{\\partial b}  \\newline \\rbrace\n",
    "\\end{align*}$$"
   ]
  },
  {
   "cell_type": "code",
   "execution_count": 55,
   "id": "8021b044",
   "metadata": {},
   "outputs": [],
   "source": [
    "# Function to implement Gradient Descent:\n",
    "\n",
    "def gradient_descent(x, y, w_in, b_in, alpha, num_iters, cost_function, gradient_function): \n",
    "    \"\"\"\n",
    "    Performs gradient descent to fit w,b. Updates w,b by taking \n",
    "    num_iters gradient steps with learning rate alpha\n",
    "    \n",
    "    Args:\n",
    "      x (ndarray (m,))  : Data, m examples \n",
    "      y (ndarray (m,))  : target values\n",
    "      w_in,b_in (scalar): initial values of model parameters  \n",
    "      alpha (float):     Learning rate\n",
    "      num_iters (int):   number of iterations to run gradient descent\n",
    "      cost_function:     function to call to produce cost\n",
    "      gradient_function: function to call to produce gradient\n",
    "      \n",
    "    Returns:\n",
    "      w (scalar): Updated value of parameter after running gradient descent\n",
    "      b (scalar): Updated value of parameter after running gradient descent\n",
    "      J_history (List): History of cost values\n",
    "      p_history (list): History of parameters [w,b] \n",
    "      \"\"\"\n",
    "    \n",
    "    # An array to store cost J and w's at each iteration primarily for graphing later\n",
    "    J_history = []\n",
    "    p_history = []\n",
    "    b = b_in\n",
    "    w = w_in\n",
    "    \n",
    "    for i in range(num_iters):\n",
    "        # Calculate the gradient and update the parameters using gradient_function\n",
    "        dj_dw, dj_db = gradient_function(x, y, w , b)     \n",
    "\n",
    "        # Update Parameters using equation (3) above\n",
    "        b = b - alpha * dj_db                            \n",
    "        w = w - alpha * dj_dw                            \n",
    "\n",
    "        # Save cost J at each iteration\n",
    "        if i<100000:      # prevent resource exhaustion \n",
    "            J_history.append( cost_function(x, y, w , b))\n",
    "            p_history.append([w,b])\n",
    "        # Print cost every at intervals 10 times or as many iterations if < 10\n",
    "        if i% math.ceil(num_iters/10) == 0:\n",
    "            print(f\"Iteration {i:4}: Cost {J_history[-1]:0.2e} \",\n",
    "                  f\"dj_dw: {dj_dw: 0.3e}, dj_db: {dj_db: 0.3e}  \",\n",
    "                  f\"w: {w: 0.3e}, b:{b: 0.5e}\")\n",
    " \n",
    "    return w, b, J_history, p_history #return w and J,w history for graphing"
   ]
  },
  {
   "cell_type": "code",
   "execution_count": 50,
   "id": "57d0c8d3",
   "metadata": {},
   "outputs": [
    {
     "name": "stdout",
     "output_type": "stream",
     "text": [
      "Iteration    0: Cost 1.91e+04  dj_dw: -3.678e+04, dj_db: -4.410e+02   w:  7.355e+00, b: 8.82000e-02\n",
      "Iteration 100000: Cost 1.22e+03  dj_dw:  7.554e-03, dj_db: -7.007e-01   w:  3.118e+00, b: 2.11113e+02\n",
      "Iteration 200000: Cost 1.22e+03  dj_dw:  1.189e-04, dj_db: -1.103e-02   w:  3.082e+00, b: 2.14435e+02\n",
      "Iteration 300000: Cost 1.22e+03  dj_dw:  1.872e-06, dj_db: -1.736e-04   w:  3.082e+00, b: 2.14488e+02\n",
      "Iteration 400000: Cost 1.22e+03  dj_dw:  2.947e-08, dj_db: -2.733e-06   w:  3.082e+00, b: 2.14489e+02\n",
      "Iteration 500000: Cost 1.22e+03  dj_dw:  4.628e-10, dj_db: -4.303e-08   w:  3.082e+00, b: 2.14489e+02\n",
      "Iteration 600000: Cost 1.22e+03  dj_dw:  6.139e-12, dj_db: -6.789e-10   w:  3.082e+00, b: 2.14489e+02\n",
      "Iteration 700000: Cost 1.22e+03  dj_dw:  6.366e-13, dj_db: -7.105e-11   w:  3.082e+00, b: 2.14489e+02\n",
      "Iteration 800000: Cost 1.22e+03  dj_dw:  6.366e-13, dj_db: -7.105e-11   w:  3.082e+00, b: 2.14489e+02\n",
      "Iteration 900000: Cost 1.22e+03  dj_dw:  6.366e-13, dj_db: -7.105e-11   w:  3.082e+00, b: 2.14489e+02\n",
      "(w,b) found by gradient descent: (  3.0818,214.4886)\n"
     ]
    }
   ],
   "source": [
    "# Apply Gradient Descent to the training data:\n",
    "\n",
    "# initialize parameters\n",
    "w_init = 0\n",
    "b_init = 0\n",
    "# some gradient descent settings\n",
    "iterations = 1000000 #Tested many different combinations of alpha & iterations: The minimum cost is 1220 which is quite big\n",
    "tmp_alpha = 0.0002 \n",
    "# run gradient descent\n",
    "w_final, b_final, J_hist, p_hist = gradient_descent(x_train ,y_train, w_init, b_init, tmp_alpha, \n",
    "                                                    iterations, compute_cost, compute_gradient)\n",
    "print(f\"(w,b) found by gradient descent: ({w_final:8.4f},{b_final:8.4f})\")"
   ]
  },
  {
   "cell_type": "markdown",
   "id": "d2c6ff91",
   "metadata": {},
   "source": [
    "As you can see <b> the minimum cost </b> that can be estimated is : <b> 1220 </b> when the values of the parameters are: \n",
    "\n",
    "$$ w=3.0818, b=214.4886$$ \n",
    "\n",
    "This is less than the cost we calculated in the previous lesson (<b>6232.75</b>) when we had set the parameter values intuitively"
   ]
  },
  {
   "cell_type": "code",
   "execution_count": 51,
   "id": "1c8b9a25",
   "metadata": {},
   "outputs": [
    {
     "data": {
      "image/png": "[encoded data removed]",
      "text/plain": [
       "<Figure size 864x288 with 2 Axes>"
      ]
     },
     "metadata": {
      "needs_background": "light"
     },
     "output_type": "display_data"
    }
   ],
   "source": [
    "# plot cost versus iteration  \n",
    "fig, (ax1, ax2) = plt.subplots(1, 2, constrained_layout=True, figsize=(12,4))\n",
    "ax1.plot(J_hist[:100])\n",
    "ax2.plot(1000 + np.arange(len(J_hist[1000:])), J_hist[1000:])\n",
    "ax1.set_title(\"Cost vs. iteration(start)\");  ax2.set_title(\"Cost vs. iteration (end)\")\n",
    "ax1.set_ylabel('Cost')            ;  ax2.set_ylabel('Cost') \n",
    "ax1.set_xlabel('iteration step')  ;  ax2.set_xlabel('iteration step') \n",
    "plt.show()"
   ]
  },
  {
   "cell_type": "markdown",
   "id": "58f620cb",
   "metadata": {},
   "source": [
    "### Visualization\n",
    "Let's visualize above the training data along with the extracted linear curve $$f = 3.0818*x + 214.4886$$"
   ]
  },
  {
   "cell_type": "code",
   "execution_count": 57,
   "id": "c55fe838",
   "metadata": {},
   "outputs": [
    {
     "data": {
      "image/png": "[encoded data removed]",
      "text/plain": [
       "<Figure size 432x288 with 1 Axes>"
      ]
     },
     "metadata": {
      "needs_background": "light"
     },
     "output_type": "display_data"
    }
   ],
   "source": [
    "plt.scatter(x=x_train, y=y_train)\n",
    "plt.axline(xy1=(0, 214.4886), slope=3.0818, color='tab:green') #where: slope == w and xy1=(0,4) == xy1 =(0,b)\n",
    "plt.xlabel('Size (sqft)'); plt.ylabel('Rental Price/month (€)');\n",
    "plt.title('Input dataset');"
   ]
  },
  {
   "cell_type": "markdown",
   "id": "750c849e",
   "metadata": {},
   "source": [
    "### Predictions\n",
    "Once we have found the optimal values of the parameters $b$ & $w$ we can use them to predict the rent price of different size houses:"
   ]
  },
  {
   "cell_type": "code",
   "execution_count": 60,
   "id": "55569c6a",
   "metadata": {},
   "outputs": [
    {
     "name": "stdout",
     "output_type": "stream",
     "text": [
      "32 m^2 house estimated rental price: 313.1€\n",
      "53 m^2 house estimated rental price: 377.8€\n",
      "77 m^2 house estimated rental price: 451.8€\n"
     ]
    }
   ],
   "source": [
    "print(f\"32 m^2 house estimated rental price: {w_final*32.0 + b_final:0.1f}€\")\n",
    "print(f\"53 m^2 house estimated rental price: {w_final*53.0 + b_final:0.1f}€\")\n",
    "print(f\"77 m^2 house estimated rental price: {w_final*77.0 + b_final:0.1f}€\")"
   ]
  }
 ],
 "metadata": {
  "kernelspec": {
   "display_name": "Python 3 (ipykernel)",
   "language": "python",
   "name": "python3"
  },
  "language_info": {
   "codemirror_mode": {
    "name": "ipython",
    "version": 3
   },
   "file_extension": ".py",
   "mimetype": "text/x-python",
   "name": "python",
   "nbconvert_exporter": "python",
   "pygments_lexer": "ipython3",
   "version": "3.9.7"
  }
 },
 "nbformat": 4,
 "nbformat_minor": 5
}
